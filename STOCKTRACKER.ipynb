{
 "cells": [
  {
   "cell_type": "code",
   "execution_count": null,
   "id": "8ef52012-5492-44e3-9980-c9eff0078dab",
   "metadata": {},
   "outputs": [
    {
     "name": "stdout",
     "output_type": "stream",
     "text": [
      "📈 Simple Stock Portfolio Tracker\n",
      "Available stocks: AAPL, TSLA, AMZN, MSFT, GOOG\n"
     ]
    },
    {
     "name": "stdin",
     "output_type": "stream",
     "text": [
      "\n",
      "Enter stock symbol (or 'done' to finish):  AAPL\n",
      "Enter quantity of AAPL:  200\n",
      "\n",
      "Enter stock symbol (or 'done' to finish):  Y\n"
     ]
    },
    {
     "name": "stdout",
     "output_type": "stream",
     "text": [
      "Invalid stock symbol. Try again.\n"
     ]
    },
    {
     "name": "stdin",
     "output_type": "stream",
     "text": [
      "\n",
      "Enter stock symbol (or 'done' to finish):  DONE\n"
     ]
    },
    {
     "name": "stdout",
     "output_type": "stream",
     "text": [
      "\n",
      "Your Portfolio Summary:\n",
      "AAPL - 200 shares → $36000\n",
      "\n",
      "💰 Total Investment Value: $36000\n"
     ]
    }
   ],
   "source": [
    "import csv\n",
    "\n",
    "def stock_tracker():\n",
    "    # Hardcoded stock prices\n",
    "    stock_prices = {\n",
    "        \"AAPL\": 180,\n",
    "        \"TSLA\": 250,\n",
    "        \"AMZN\": 200,\n",
    "        \"MSFT\": 320,\n",
    "        \"GOOG\": 140\n",
    "    }\n",
    "\n",
    "    investments = {}   # Store stock name → quantity\n",
    "    total_value = 0\n",
    "\n",
    "    print(\" Simple Stock Portfolio Tracker\")\n",
    "    print(\"Available stocks:\", \", \".join(stock_prices.keys()))\n",
    "\n",
    "    while True:\n",
    "        stock = input(\"\\nEnter stock symbol (or 'done' to finish): \").upper()\n",
    "        if stock == \"DONE\":\n",
    "            break\n",
    "        if stock not in stock_prices:\n",
    "            print(\"Invalid stock symbol. Try again.\")\n",
    "            continue\n",
    "\n",
    "        try:\n",
    "            quantity = int(input(f\"Enter quantity of {stock}: \"))\n",
    "        except ValueError:\n",
    "            print(\"Please enter a valid number.\")\n",
    "            continue\n",
    "\n",
    "        investments[stock] = investments.get(stock, 0) + quantity\n",
    "\n",
    "    # Calculate total portfolio value\n",
    "    print(\"\\nYour Portfolio Summary:\")\n",
    "    for stock, qty in investments.items():\n",
    "        value = stock_prices[stock] * qty\n",
    "        total_value += value\n",
    "        print(f\"{stock} - {qty} shares → ${value}\")\n",
    "\n",
    "    print(f\"\\n Total Investment Value: ${total_value}\")\n",
    "\n",
    "    # Ask user if they want to save the results\n",
    "    save_choice = input(\"\\nDo you want to save results to a file? (yes/no): \").lower()\n",
    "\n",
    "    if save_choice == \"yes\":\n",
    "        filename = \"portfolio.csv\"\n",
    "        with open(filename, \"w\", newline=\"\") as file:\n",
    "            writer = csv.writer(file)\n",
    "            writer.writerow([\"Stock\", \"Quantity\", \"Price\", \"Value\"])\n",
    "            for stock, qty in investments.items():\n",
    "                writer.writerow([stock, qty, stock_prices[stock], stock_prices[stock] * qty])\n",
    "            writer.writerow([])\n",
    "            writer.writerow([\"Total Investment\", \"\", \"\", total_value])\n",
    "        print(f\" Portfolio saved to {filename}\")\n",
    "\n",
    "# Run the tracker\n",
    "stock_tracker()\n"
   ]
  },
  {
   "cell_type": "code",
   "execution_count": null,
   "id": "abfba0bd-4678-4acc-91af-e60a1b91eb63",
   "metadata": {},
   "outputs": [],
   "source": []
  }
 ],
 "metadata": {
  "kernelspec": {
   "display_name": "Python 3 (ipykernel)",
   "language": "python",
   "name": "python3"
  },
  "language_info": {
   "codemirror_mode": {
    "name": "ipython",
    "version": 3
   },
   "file_extension": ".py",
   "mimetype": "text/x-python",
   "name": "python",
   "nbconvert_exporter": "python",
   "pygments_lexer": "ipython3",
   "version": "3.13.5"
  }
 },
 "nbformat": 4,
 "nbformat_minor": 5
}
